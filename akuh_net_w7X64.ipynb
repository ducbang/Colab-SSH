{
  "nbformat": 4,
  "nbformat_minor": 0,
  "metadata": {
    "colab": {
      "name": "akuh.net-w7X64.ipynb",
      "private_outputs": true,
      "provenance": [],
      "collapsed_sections": [],
      "include_colab_link": true
    },
    "kernelspec": {
      "name": "python3",
      "display_name": "Python 3"
    },
    "language_info": {
      "name": "python"
    }
  },
  "cells": [
    {
      "cell_type": "markdown",
      "metadata": {
        "id": "view-in-github",
        "colab_type": "text"
      },
      "source": [
        "<a href=\"https://colab.research.google.com/github/lstprjct/Colab-SSH/blob/main/akuh_net_w7X64.ipynb\" target=\"_parent\"><img src=\"https://colab.research.google.com/assets/colab-badge.svg\" alt=\"Open In Colab\"/></a>"
      ]
    },
    {
      "cell_type": "code",
      "metadata": {
        "cellView": "form",
        "id": "RPCJB7YWGvqo"
      },
      "source": [
        "#@title **Windows RDP w7 64 Akuh.net**\n",
        "#@markdown Windows RDP Colab runs up to 12 Hours<br><br>\n",
        "#@markdown UPDATE<br>\n",
        "#@markdown No need VNC just connect with RDP<br><br>\n",
        "#@markdown Get ngrok auth token:<br>\n",
        "#@markdown [Auth Token](https://dashboard.ngrok.com/get-started/your-authtoken)<br><br>\n",
        "#@markdown Just clik play buton and wait <br>\n",
        "#@markdown Full tutorial: [akuh.net](https://www.akuh.net/2021/08/free-rdp-colab.html)<br><br>\n",
        "#@markdown Username: akuh<br>\n",
        "#@markdown Password: Akuh.Net <br><br>\n",
        "#@markdown Get 👉 [Free RDP windows 7 x86](https://smart.akuh.net/2021/04/necessary-position-of-social-media_23.html#?o=c9fa5affb435cf4a6915ea8c9715c4c56945ab423bfe0de8c079c9a0e4c014e84cf202a2c637bf1f2c6eed98b2bf432be8631bdc1a027becc12eb323f58e1bc6f8356ec0b3933c03e32c1414a11d1cbad071b0a18397eb09b320093ad287f1d58411f506f96cb375)<br><br>\n",
        "! wget -O w7.sh https://bit.ly/akuhnetwindows7X64 &> /dev/null\n",
        "! chmod +x w7.sh\n",
        "! ./w7.sh"
      ],
      "execution_count": null,
      "outputs": []
    },
    {
      "cell_type": "markdown",
      "metadata": {
        "id": "e9wa7ujNT_pz"
      },
      "source": [
        "# **Prevent from disconnecting** \n",
        "# **Press F12 then enter this code:**\n",
        "```\n",
        "function ClickConnect() {\n",
        "  console.log('Working')\n",
        "  document\n",
        "    .querySelector('#top-toolbar > colab-connect-button')\n",
        "    .shadowRoot.querySelector('#connect')\n",
        "    .click()\n",
        "}\n",
        "\n",
        "setInterval(ClickConnect, 60000)\n",
        "\n"
      ]
    }
  ]
}